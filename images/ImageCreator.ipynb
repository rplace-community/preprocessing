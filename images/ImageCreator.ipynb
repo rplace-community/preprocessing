{
 "cells": [
  {
   "cell_type": "code",
   "execution_count": 1,
   "metadata": {},
   "outputs": [],
   "source": [
    "import pandas as pd\n",
    "from PIL import Image, ImageDraw, ImageColor\n",
    "from multiprocessing import Pool\n",
    "import sys"
   ]
  },
  {
   "cell_type": "markdown",
   "metadata": {},
   "source": [
    "From basic analysis, no element with timestamp at ms level (even if ts is set at ts level)\n",
    "Also, some timestamps with a lot of edits\n",
    "In place.csv, ts - 1490918688000, and then for all we /1000 (since second granularity sufficient)"
   ]
  },
  {
   "cell_type": "code",
   "execution_count": 2,
   "metadata": {},
   "outputs": [
    {
     "name": "stderr",
     "output_type": "stream",
     "text": [
      "/Users/MJ/anaconda/lib/python3.6/site-packages/numpy/lib/arraysetops.py:472: FutureWarning: elementwise comparison failed; returning scalar instead, but in the future will perform elementwise comparison\n",
      "  mask |= (ar1 == a)\n"
     ]
    }
   ],
   "source": [
    "df = pd.read_csv('place.csv', index_col=0)"
   ]
  },
  {
   "cell_type": "code",
   "execution_count": 3,
   "metadata": {},
   "outputs": [
    {
     "data": {
      "text/plain": [
       "Index(['ts', 'user_id', 'x_coordinate', 'y_coordinate', 'color'], dtype='object')"
      ]
     },
     "execution_count": 3,
     "metadata": {},
     "output_type": "execute_result"
    }
   ],
   "source": [
    "df.columns"
   ]
  },
  {
   "cell_type": "code",
   "execution_count": 4,
   "metadata": {},
   "outputs": [
    {
     "data": {
      "text/plain": [
       "(2021, 5)"
      ]
     },
     "execution_count": 4,
     "metadata": {},
     "output_type": "execute_result"
    }
   ],
   "source": [
    "df[df['x_coordinate'] >= 1000].shape"
   ]
  },
  {
   "cell_type": "code",
   "execution_count": 5,
   "metadata": {},
   "outputs": [
    {
     "data": {
      "text/plain": [
       "(1562, 5)"
      ]
     },
     "execution_count": 5,
     "metadata": {},
     "output_type": "execute_result"
    }
   ],
   "source": [
    "df[df['y_coordinate'] >= 1000].shape"
   ]
  },
  {
   "cell_type": "code",
   "execution_count": 7,
   "metadata": {},
   "outputs": [],
   "source": [
    "prevPixels = df[df['ts'] < 60845]\n",
    "df['ts'] -= 60845\n",
    "df = df[df['ts'] >= 0]\n",
    "df = df[df['x_coordinate'] <= 999]\n",
    "df = df[df['y_coordinate'] <= 999]"
   ]
  },
  {
   "cell_type": "code",
   "execution_count": 9,
   "metadata": {},
   "outputs": [],
   "source": [
    "def save_image(image,ts):\n",
    "    #immm = image\n",
    "    image.save('frames/{0}.png'.format(ts))\n",
    "    \n",
    "\n",
    "# Hex color table\n",
    "colors = [\"#FFFFFF\",\"#E4E4E4\",\"#888888\",\"#222222\",\"#FFA7D1\",\"#E50000\",\"#E59500\",\"#A06A42\",\"#E5D900\",\"#94E044\",\"#02BE01\",\"#00E5F0\",\"#0083C7\",\"#0000EA\",\"#E04AFF\",\"#820080\"]\n",
    "\n",
    "# Convert the colors to RGB tuples\n",
    "for i in range(0,len(colors)):\n",
    "    colors[i]=ImageColor.getrgb(colors[i])\n",
    "\n",
    "#We want every 15 minutes => 900 seconds\n",
    "period = 15 * 60\n",
    "count = 0\n",
    "imPeriodIdx = 0\n",
    "    \n",
    "with Pool(processes=4) as pool:\n",
    "    im = Image.new(\"RGB\",(1000,1000),\"white\")\n",
    "    pixels = im.load()\n",
    "    \n",
    "    for i in range(prevPixels.shape[0]):\n",
    "        row = prevPixels.iloc[i]\n",
    "        x = int(row['x_coordinate'])\n",
    "        y = int(row['y_coordinate'])\n",
    "        pixels[x,y] = colors[int(row['color'])]\n",
    "        \n",
    "    pool.apply(save_image, args=(im, imPeriodIdx,))\n",
    "    imPeriodIdx+=1\n",
    "    \n",
    "    for i in range(df.shape[0]):\n",
    "        \n",
    "        ts_bef = 0 if i == 0 else df.iloc[i-1]['ts']\n",
    "        row = df.iloc[i]\n",
    "        \n",
    "        count += row['ts'] - ts_bef\n",
    "        while(count >= period):\n",
    "            count -= period\n",
    "            pool.apply(save_image, args=(im, imPeriodIdx,)) \n",
    "            imPeriodIdx+=1\n",
    "        \n",
    "        x = int(row['x_coordinate'])\n",
    "        y = int(row['y_coordinate'])\n",
    "        pixels[x,y] = colors[int(row['color'])]\n",
    "        \n",
    "    pool.apply(save_image, args=(im,imPeriodIdx))"
   ]
  }
 ],
 "metadata": {
  "kernelspec": {
   "display_name": "Python 3",
   "language": "python",
   "name": "python3"
  },
  "language_info": {
   "codemirror_mode": {
    "name": "ipython",
    "version": 3
   },
   "file_extension": ".py",
   "mimetype": "text/x-python",
   "name": "python",
   "nbconvert_exporter": "python",
   "pygments_lexer": "ipython3",
   "version": "3.6.5"
  },
  "varInspector": {
   "cols": {
    "lenName": 16,
    "lenType": 16,
    "lenVar": 40
   },
   "kernels_config": {
    "python": {
     "delete_cmd_postfix": "",
     "delete_cmd_prefix": "del ",
     "library": "var_list.py",
     "varRefreshCmd": "print(var_dic_list())"
    },
    "r": {
     "delete_cmd_postfix": ") ",
     "delete_cmd_prefix": "rm(",
     "library": "var_list.r",
     "varRefreshCmd": "cat(var_dic_list()) "
    }
   },
   "types_to_exclude": [
    "module",
    "function",
    "builtin_function_or_method",
    "instance",
    "_Feature"
   ],
   "window_display": false
  }
 },
 "nbformat": 4,
 "nbformat_minor": 2
}
